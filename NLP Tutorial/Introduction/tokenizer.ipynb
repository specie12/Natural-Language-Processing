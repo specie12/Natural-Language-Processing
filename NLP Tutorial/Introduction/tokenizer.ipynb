{
 "cells": [
  {
   "cell_type": "code",
   "execution_count": null,
   "metadata": {},
   "outputs": [],
   "source": [
    "\"\"\"Splitting text data into tokens.\"\"\"\n",
    "\n",
    "import re\n",
    "from nltk.tokenize import sent_tokenize, word_tokenize\n",
    "\n",
    "def sent_tokenize(text):\n",
    "    \"\"\"Split text into sentences.\"\"\"\n",
    "    \n",
    "    # TODO: Split text by sentence delimiters (remove delimiters)\n",
    "    sentences = sent_tokenize(text)\n",
    "    \n",
    "    # TODO: Remove leading and trailing spaces from each sentence\n",
    "    sentences = [i for i in sentences if i != '']\n",
    "    \n",
    "    # TODO: Return a list of sentences (remove blank strings)\n",
    "    return sentences\n",
    "\n",
    "\n",
    "def word_tokenize(sentences):\n",
    "    \"\"\"Split a sentence into words.\"\"\"\n",
    "    \n",
    "    # TODO: Split sent by word delimiters (remove delimiters)\n",
    "    words = []\n",
    "    for sent in sentences:\n",
    "        words.append(word_tokenize(sent))\n",
    "    \n",
    "    # TODO: Remove leading and trailing spaces from each word\n",
    "    words = [i for i in word if i != '']\n",
    "    \n",
    "    # TODO: Return a list of words (remove blank strings)\n",
    "    return words\n",
    "\n",
    "\n",
    "def test_run():\n",
    "    \"\"\"Called on Test Run.\"\"\"\n",
    "\n",
    "    text = \"The first time you see The Second Renaissance it may look boring. Look at it at least twice and definitely watch part 2. It will change your view of the matrix. Are the human people the ones who started the war? Is AI a bad thing?\"\n",
    "    print(\"--- Sample text ---\", text, sep=\"\\n\")\n",
    "    \n",
    "    sentences = sent_tokenize(text)\n",
    "    print(\"\\n--- Sentences ---\")\n",
    "    print(sentences)\n",
    "    \n",
    "    print(\"\\n--- Words ---\")\n",
    "    for sent in sentences:\n",
    "        print(sent)\n",
    "        print(word_tokenize(sent))\n",
    "        print()  # blank line for readability\n",
    "        \n",
    "if __name__ == \"__main__\":\n",
    "    test_run()"
   ]
  }
 ],
 "metadata": {
  "kernelspec": {
   "display_name": "Python 3",
   "language": "python",
   "name": "python3"
  },
  "language_info": {
   "codemirror_mode": {
    "name": "ipython",
    "version": 3
   },
   "file_extension": ".py",
   "mimetype": "text/x-python",
   "name": "python",
   "nbconvert_exporter": "python",
   "pygments_lexer": "ipython3",
   "version": "3.7.9"
  }
 },
 "nbformat": 4,
 "nbformat_minor": 4
}
